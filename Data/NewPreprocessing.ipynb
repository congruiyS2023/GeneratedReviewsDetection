{
  "nbformat": 4,
  "nbformat_minor": 0,
  "metadata": {
    "colab": {
      "provenance": []
    },
    "kernelspec": {
      "name": "python3",
      "display_name": "Python 3"
    },
    "language_info": {
      "name": "python"
    }
  },
  "cells": [
    {
      "cell_type": "code",
      "execution_count": 1,
      "metadata": {
        "colab": {
          "base_uri": "https://localhost:8080/"
        },
        "id": "fDrQVStlAiev",
        "outputId": "12e5e526-e0fd-4402-d99d-dde7921053ee"
      },
      "outputs": [
        {
          "output_type": "stream",
          "name": "stdout",
          "text": [
            "Cloning into 'GeneratedReviewsDetection'...\n",
            "remote: Enumerating objects: 260, done.\u001b[K\n",
            "remote: Counting objects: 100% (160/160), done.\u001b[K\n",
            "remote: Compressing objects: 100% (117/117), done.\u001b[K\n",
            "remote: Total 260 (delta 89), reused 80 (delta 38), pack-reused 100\u001b[K\n",
            "Receiving objects: 100% (260/260), 109.27 MiB | 22.54 MiB/s, done.\n",
            "Resolving deltas: 100% (118/118), done.\n"
          ]
        }
      ],
      "source": [
        "!git clone https://github.com/congruiyS2023/GeneratedReviewsDetection.git"
      ]
    },
    {
      "cell_type": "code",
      "source": [
        "# preprocessing data for English Reviews\n",
        "\n",
        "import pandas as pd\n",
        "import gzip\n",
        "import random\n",
        "import json\n",
        "\n",
        "\n",
        "def extract_reviews(input_file, num_reviews=11500):\n",
        "    reviews = []\n",
        "\n",
        "    with gzip.open(input_file, 'rt', encoding='utf-8') as file:\n",
        "        for line in file:\n",
        "            review_data = json.loads(line)\n",
        "            reviews.append(review_data)\n",
        "            if len(reviews) == num_reviews:\n",
        "                break\n",
        "\n",
        "    return reviews\n",
        "\n",
        "# Specify input files\n",
        "input_file1 = 'GeneratedReviewsDetection/Data/English Reviews/Luxury_Beauty_5.json.gz'\n",
        "input_file2 = 'GeneratedReviewsDetection/Data/English Reviews/Software_5.json.gz'\n",
        "generated_reviews_file1 = '/content/product_reviews.csv'\n",
        "generated_reviews_file2 = '/content/product_reviews (1).csv'\n",
        "generated_reviews_file3 = '/content/product_reviews (2).csv'\n",
        "\n",
        "\n",
        "# Extract reviews\n",
        "luxury_beauty_reviews = extract_reviews(input_file1)\n",
        "print(len(luxury_beauty_reviews))\n",
        "\n",
        "software_reviews = extract_reviews(input_file2)\n",
        "print(len(software_reviews))\n",
        "\n",
        "dfs = []\n",
        "df = pd.read_csv(generated_reviews_file1)\n",
        "dfs.append(df)\n",
        "df = pd.read_csv(generated_reviews_file2)\n",
        "dfs.append(df)\n",
        "df = pd.read_csv(generated_reviews_file3)\n",
        "dfs.append(df)\n",
        "\n",
        "# Concatenate all DataFrames into a single DataFrame\n",
        "additional_reviews = pd.concat(dfs, ignore_index=True)\n",
        "\n",
        "\n",
        "# Combine all reviews\n",
        "all_reviews = luxury_beauty_reviews + software_reviews\n",
        "combined_reviews = []\n",
        "\n",
        "for review in all_reviews:\n",
        "    review_text = review.get('reviewText', '')\n",
        "    combined_reviews.append({'review': review_text, 'label': 0})\n",
        "\n",
        "for review in additional_reviews['Review']:\n",
        "    combined_reviews.append({'review': review, 'label': 1})\n",
        "\n",
        "# Shuffle the combined reviews\n",
        "random.shuffle(combined_reviews)"
      ],
      "metadata": {
        "colab": {
          "base_uri": "https://localhost:8080/"
        },
        "id": "CS6doUIrAvFD",
        "outputId": "12f066e1-249d-4eef-82b4-da61aec59f17"
      },
      "execution_count": null,
      "outputs": [
        {
          "output_type": "stream",
          "name": "stdout",
          "text": [
            "11500\n",
            "11500\n"
          ]
        }
      ]
    },
    {
      "cell_type": "code",
      "source": [
        "print(len(combined_reviews))"
      ],
      "metadata": {
        "colab": {
          "base_uri": "https://localhost:8080/"
        },
        "id": "kY4YWesZNLsm",
        "outputId": "96c92bae-ed7d-4404-bbc5-0f266079accd"
      },
      "execution_count": null,
      "outputs": [
        {
          "output_type": "stream",
          "name": "stdout",
          "text": [
            "46156\n"
          ]
        }
      ]
    },
    {
      "cell_type": "code",
      "source": [
        "# Remove duplicates using a set\n",
        "unique_reviews = set()\n",
        "filtered_combined_reviews = []\n",
        "\n",
        "for review in combined_reviews:\n",
        "    review_tuple = (review['review'], review['label'])\n",
        "    if review_tuple not in unique_reviews:\n",
        "        unique_reviews.add(review_tuple)\n",
        "        filtered_combined_reviews.append(review)\n",
        "\n",
        "print(len(filtered_combined_reviews))"
      ],
      "metadata": {
        "colab": {
          "base_uri": "https://localhost:8080/"
        },
        "id": "5X8NZ0DlM_GG",
        "outputId": "eb5dc58a-f424-4d2d-d086-2178d6cf310c"
      },
      "execution_count": null,
      "outputs": [
        {
          "output_type": "stream",
          "name": "stdout",
          "text": [
            "29965\n"
          ]
        }
      ]
    },
    {
      "cell_type": "code",
      "source": [
        "# Write the combined reviews to a CSV file\n",
        "csv_file = 'labeled_english_reviews_train.csv'\n",
        "pd.DataFrame(combined_reviews).to_csv(csv_file, index=False)\n",
        "\n",
        "print(f\"Shuffled reviews with additional reviews are written to {csv_file}\")"
      ],
      "metadata": {
        "colab": {
          "base_uri": "https://localhost:8080/"
        },
        "id": "rv5RG7VGNBbi",
        "outputId": "8fbb55f4-9790-472b-eaee-65baf01275a3"
      },
      "execution_count": null,
      "outputs": [
        {
          "output_type": "stream",
          "name": "stdout",
          "text": [
            "Shuffled reviews with additional reviews are written to labeled_english_reviews_train.csv\n"
          ]
        }
      ]
    },
    {
      "cell_type": "code",
      "source": [
        "import pandas as pd\n",
        "import random\n",
        "import json\n",
        "from zipfile import ZipFile\n",
        "\n",
        "\n",
        "zip_file_path = '/content/GeneratedReviewsDetection/Data/Chinese Reviews/train.csv.zip'\n",
        "csv_file_path = '/content/GeneratedReviewsDetection/Data/Chinese Reviews/train.csv'\n",
        "generated_chinese_reviews_file = 'GeneratedReviewsDetection/Data/Chinese Reviews/chinese_reviews_new.csv'\n",
        "\n",
        "with ZipFile(zip_file_path, 'r') as zip_ref:\n",
        "    zip_ref.extractall('/content/GeneratedReviewsDetection/Data/Chinese Reviews/')\n",
        "\n",
        "all_reviews = pd.read_csv(csv_file_path)\n",
        "additional_reviews = pd.read_csv(generated_chinese_reviews_file)\n",
        "\n",
        "combined_reviews = []\n",
        "\n",
        "for review in all_reviews['review']:\n",
        "    combined_reviews.append({'review': review, 'label': 0})\n",
        "\n",
        "for review in additional_reviews['review']:\n",
        "    combined_reviews.append({'review': review, 'label': 1})\n",
        "\n",
        "# Shuffle the combined reviews\n",
        "random.shuffle(combined_reviews)\n",
        "\n",
        "# Write the combined reviews to a CSV file\n",
        "csv_file = 'labeled_chinese_reviews_train.csv'\n",
        "pd.DataFrame(combined_reviews).to_csv(csv_file, index=False)\n",
        "\n",
        "print(f\"Shuffled reviews with additional reviews are written to {csv_file}\")\n",
        "print(len(combined_reviews))"
      ],
      "metadata": {
        "colab": {
          "base_uri": "https://localhost:8080/"
        },
        "id": "8tjQwAQgInOZ",
        "outputId": "d3d2a13a-3d0f-418a-d0fb-dec1061aa6d7"
      },
      "execution_count": null,
      "outputs": [
        {
          "output_type": "stream",
          "name": "stdout",
          "text": [
            "Shuffled reviews with additional reviews are written to labeled_chinese_reviews_train.csv\n",
            "59680\n"
          ]
        }
      ]
    },
    {
      "cell_type": "code",
      "source": [
        "import pandas as pd\n",
        "import random\n",
        "import json\n",
        "from zipfile import ZipFile\n",
        "\n",
        "\n",
        "zip_file_path = '/content/GeneratedReviewsDetection/Data/English Reviews/labeled_english_reviews_train.csv.zip'\n",
        "csv_file_path = '/content/GeneratedReviewsDetection/Data/English Reviews/labeled_english_reviews_train.csv'\n",
        "csv_file = 'train.csv'\n",
        "\n",
        "with ZipFile(zip_file_path, 'r') as zip_ref:\n",
        "    zip_ref.extractall('/content/GeneratedReviewsDetection/Data/English Reviews/')\n",
        "\n",
        "df = pd.read_csv(csv_file_path)\n",
        "\n",
        "df['text'] = df['text'].astype(str)\n",
        "df = df[df['text'] != 'nan']\n",
        "\n",
        "pd.DataFrame(df).to_csv(csv_file, index=False)\n",
        "\n",
        "print(len(df))"
      ],
      "metadata": {
        "colab": {
          "base_uri": "https://localhost:8080/"
        },
        "id": "uO2BeSyC2jHL",
        "outputId": "f3064a73-3ccf-4853-b5bf-1082c90b6d18"
      },
      "execution_count": 5,
      "outputs": [
        {
          "output_type": "stream",
          "name": "stdout",
          "text": [
            "46149\n"
          ]
        }
      ]
    },
    {
      "cell_type": "code",
      "source": [
        "import pandas as pd\n",
        "import random\n",
        "import json\n",
        "from zipfile import ZipFile\n",
        "\n",
        "\n",
        "zip_file_path = '/content/GeneratedReviewsDetection/Data/Chinese Reviews/labeled_chinese_reviews_train.csv.zip'\n",
        "csv_file_path = '/content/GeneratedReviewsDetection/Data/Chinese Reviews/labeled_chinese_reviews_train.csv'\n",
        "csv_file = 'new_train.csv'\n",
        "\n",
        "with ZipFile(zip_file_path, 'r') as zip_ref:\n",
        "    zip_ref.extractall('/content/GeneratedReviewsDetection/Data/Chinese Reviews/')\n",
        "\n",
        "df = pd.read_csv(csv_file_path)\n",
        "\n",
        "df['text'] = df['text'].astype(str)\n",
        "df = df[df['text'] != 'nan']\n",
        "\n",
        "pd.DataFrame(df).to_csv(csv_file, index=False)\n",
        "\n",
        "print(len(df))"
      ],
      "metadata": {
        "colab": {
          "base_uri": "https://localhost:8080/"
        },
        "id": "c3luLdPi4VqC",
        "outputId": "9900551e-8e74-4442-db5b-aed9fd880aa8"
      },
      "execution_count": 6,
      "outputs": [
        {
          "output_type": "stream",
          "name": "stdout",
          "text": [
            "59673\n"
          ]
        }
      ]
    }
  ]
}