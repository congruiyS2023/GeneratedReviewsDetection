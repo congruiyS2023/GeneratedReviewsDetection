{
 "nbformat": 4,
 "nbformat_minor": 0,
 "metadata": {
  "colab": {
   "provenance": []
  },
  "kernelspec": {
   "name": "python3",
   "display_name": "Python 3"
  },
  "language_info": {
   "name": "python"
  }
 },
 "cells": [
  {
   "cell_type": "code",
   "execution_count": 1,
   "metadata": {
    "colab": {
     "base_uri": "https://localhost:8080/"
    },
    "id": "fDrQVStlAiev",
    "outputId": "0c1a129c-7e35-4cf2-fbba-433e20da7327"
   },
   "outputs": [
    {
     "output_type": "stream",
     "name": "stdout",
     "text": [
      "Cloning into 'GeneratedReviewsDetection'...\n",
      "remote: Enumerating objects: 98, done.\u001B[K\n",
      "remote: Counting objects: 100% (98/98), done.\u001B[K\n",
      "remote: Compressing objects: 100% (93/93), done.\u001B[K\n",
      "remote: Total 98 (delta 28), reused 8 (delta 0), pack-reused 0\u001B[K\n",
      "Receiving objects: 100% (98/98), 26.82 MiB | 17.32 MiB/s, done.\n",
      "Resolving deltas: 100% (28/28), done.\n"
     ]
    }
   ],
   "source": [
    "!git clone https://github.com/congruiyS2023/GeneratedReviewsDetection.git"
   ]
  },
  {
   "cell_type": "code",
   "source": [
    "# preprocessing data for English Reviews\n",
    "\n",
    "import pandas as pd\n",
    "import gzip\n",
    "import random\n",
    "import json\n",
    "\n",
    "\n",
    "def extract_reviews(input_file, num_reviews=500, min_overall_rating=4.0, max_overall_rating=5.0,  verified='TRUE'):\n",
    "    reviews = []\n",
    "\n",
    "    with gzip.open(input_file, 'rt', encoding='utf-8') as file:\n",
    "        for line in file:\n",
    "            review_data = json.loads(line)\n",
    "            if review_data.get('overall', 0.0) >= min_overall_rating and review_data.get('overall', 0.0) <= max_overall_rating and review_data.get('verified', 'FALSE') == verified:\n",
    "                reviews.append(review_data)\n",
    "                if len(reviews) == num_reviews:\n",
    "                    break\n",
    "\n",
    "    return reviews\n",
    "\n",
    "# Specify input files\n",
    "input_file1 = 'GeneratedReviewsDetection/Data/English Reviews/Luxury_Beauty_5.json.gz'\n",
    "input_file2 = 'GeneratedReviewsDetection/Data/English Reviews/Software_5.json.gz'\n",
    "generated_reviews_file = 'GeneratedReviewsDetection/Data/English Reviews/generated_product_reviews.csv'\n",
    "\n",
    "\n",
    "# Extract reviews\n",
    "luxury_beauty_reviews_1 = extract_reviews(input_file1)\n",
    "software_reviews_1 = extract_reviews(input_file2)\n",
    "\n",
    "luxury_beauty_reviews_2 = extract_reviews(input_file1, num_reviews=500, min_overall_rating=0.0, max_overall_rating=3.0,  verified=True)\n",
    "software_reviews_2 = extract_reviews(input_file2, num_reviews=500, min_overall_rating=0.0, max_overall_rating=3.0,  verified=True)\n",
    "additional_reviews = pd.read_csv(generated_reviews_file).sample(n=2000, random_state=42)\n",
    "\n",
    "# Combine all reviews\n",
    "all_reviews = luxury_beauty_reviews_1 + luxury_beauty_reviews_2 + software_reviews_1 + software_reviews_2\n",
    "combined_reviews = []\n",
    "\n",
    "for review in all_reviews:\n",
    "    review_text = review.get('reviewText', '')\n",
    "    combined_reviews.append({'review': review_text, 'label': 0})\n",
    "\n",
    "for review in additional_reviews['Review']:\n",
    "    combined_reviews.append({'review': review, 'label': 1})\n",
    "\n",
    "# Shuffle the combined reviews\n",
    "random.shuffle(combined_reviews)\n",
    "\n",
    "# Write the combined reviews to a CSV file\n",
    "csv_file = 'labeled_english_reviews.csv'\n",
    "pd.DataFrame(combined_reviews).to_csv(csv_file, index=False)\n",
    "\n",
    "print(f\"Shuffled reviews with additional reviews are written to {csv_file}\")"
   ],
   "metadata": {
    "colab": {
     "base_uri": "https://localhost:8080/"
    },
    "id": "CS6doUIrAvFD",
    "outputId": "d596e909-64cd-4a0c-f8d5-24277d549ff7"
   },
   "execution_count": 2,
   "outputs": [
    {
     "output_type": "stream",
     "name": "stdout",
     "text": [
      "Shuffled reviews with additional reviews are written to labeled_english_reviews.csv\n"
     ]
    }
   ]
  },
  {
   "cell_type": "code",
   "source": [
    "file_path = 'GeneratedReviewsDetection/Data/Chinese Reviews/original_test_chinese_reviews.csv'\n",
    "generated_chinese_reviews_file = 'GeneratedReviewsDetection/Data/Chinese Reviews/generatedReviews.csv'\n",
    "\n",
    "all_reviews = pd.read_csv(file_path).sample(n=2000, random_state=42)\n",
    "additional_reviews = pd.read_csv(generated_chinese_reviews_file).sample(n=2000, random_state=42)\n",
    "\n",
    "combined_reviews = []\n",
    "\n",
    "for review in all_reviews['review']:\n",
    "    combined_reviews.append({'review': review, 'label': 0})\n",
    "\n",
    "for review in additional_reviews['review']:\n",
    "    combined_reviews.append({'review': review, 'label': 1})\n",
    "\n",
    "# Shuffle the combined reviews\n",
    "random.shuffle(combined_reviews)\n",
    "\n",
    "# Write the combined reviews to a CSV file\n",
    "csv_file = 'labeled_chinese_reviews.csv'\n",
    "pd.DataFrame(combined_reviews).to_csv(csv_file, index=False)\n",
    "\n",
    "print(f\"Shuffled reviews with additional reviews are written to {csv_file}\")"
   ],
   "metadata": {
    "colab": {
     "base_uri": "https://localhost:8080/"
    },
    "id": "8tjQwAQgInOZ",
    "outputId": "525f9ea2-9601-4086-bd37-ffd86065609a"
   },
   "execution_count": 4,
   "outputs": [
    {
     "output_type": "stream",
     "name": "stdout",
     "text": [
      "Shuffled reviews with additional reviews are written to labeled_chinese_reviews.csv\n"
     ]
    }
   ]
  }
 ]
}
