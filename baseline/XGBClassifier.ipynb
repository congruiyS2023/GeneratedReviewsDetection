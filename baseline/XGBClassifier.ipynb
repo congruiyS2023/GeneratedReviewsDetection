{
  "cells": [
    {
      "cell_type": "code",
      "execution_count": null,
      "metadata": {
        "id": "tOCTwXKwmV5h"
      },
      "outputs": [],
      "source": [
        "%matplotlib inline\n",
        "from pathlib import Path\n",
        "import pandas as pd\n",
        "import matplotlib.pyplot as plt\n",
        "import seaborn as sns"
      ]
    },
    {
      "cell_type": "markdown",
      "metadata": {
        "id": "OSEp__douDRX"
      },
      "source": [
        "Clone the project to the local runtime. You can modify the existing code by just clicking the file on the left panel. Noted that all the files on this runtime are not persistent"
      ]
    },
    {
      "cell_type": "code",
      "execution_count": null,
      "metadata": {
        "colab": {
          "base_uri": "https://localhost:8080/"
        },
        "id": "zuFlTQW4nxmc",
        "outputId": "8177309d-e4ce-4c07-908e-089b3adf8a87"
      },
      "outputs": [
        {
          "output_type": "stream",
          "name": "stdout",
          "text": [
            "Cloning into 'combat-ai-restaurants'...\n",
            "remote: Enumerating objects: 102, done.\u001b[K\n",
            "remote: Counting objects: 100% (102/102), done.\u001b[K\n",
            "remote: Compressing objects: 100% (73/73), done.\u001b[K\n",
            "remote: Total 102 (delta 50), reused 77 (delta 25), pack-reused 0\u001b[K\n",
            "Receiving objects: 100% (102/102), 4.96 MiB | 14.97 MiB/s, done.\n",
            "Resolving deltas: 100% (50/50), done.\n"
          ]
        }
      ],
      "source": [
        "!git clone https://github.com/iamalegambetti/combat-ai-restaurants.git"
      ]
    },
    {
      "cell_type": "markdown",
      "metadata": {
        "id": "5loUL8R_tte0"
      },
      "source": [
        "Copy data folder the root directory because the script read datasets from ./data/train.csv"
      ]
    },
    {
      "cell_type": "code",
      "execution_count": null,
      "metadata": {
        "id": "MzUp8aWBsDtB"
      },
      "outputs": [],
      "source": [
        "!cp -r combat-ai-restaurants/data/ ./data"
      ]
    },
    {
      "cell_type": "markdown",
      "metadata": {
        "id": "bHxRIfdBtN_D"
      },
      "source": [
        "On Line 45, I replaced GridSearchCV with RandomizedSearchCV to save some time.\n",
        "\n",
        "\n",
        "```\n",
        "clf = RandomizedSearchCV(model, params, cv=5) #GridSearchCV(model, params, cv=5)\n",
        "\n",
        "```\n",
        "\n"
      ]
    },
    {
      "cell_type": "code",
      "execution_count": null,
      "metadata": {
        "colab": {
          "base_uri": "https://localhost:8080/"
        },
        "id": "97-sZTMfn0ZE",
        "outputId": "f1d8cea0-0299-4733-c9b4-a62ed3ecc8f1"
      },
      "outputs": [
        {
          "output_type": "stream",
          "name": "stdout",
          "text": [
            "Model chosen: lr.\n",
            "Optimising..\n",
            "Best estimator: \n",
            "LogisticRegression(C=0.01, max_iter=2000)\n",
            "LogisticRegression(C=0.01, max_iter=2000)\n",
            "Evaluation metrics on test set: \n",
            "Accuracy:  85.07 %\n",
            "Precision:  87.0 %\n",
            "Recall:  82.34 %\n",
            "F1-score 84.61 %\n"
          ]
        }
      ],
      "source": [
        "!python3 combat-ai-restaurants/src/benchmarks_sklearn.py --model lr"
      ]
    },
    {
      "cell_type": "code",
      "execution_count": null,
      "metadata": {
        "colab": {
          "background_save": true,
          "base_uri": "https://localhost:8080/"
        },
        "id": "rbueGEqFrIYY",
        "outputId": "ef539151-48a5-4551-f5c7-7b0922a75c2e"
      },
      "outputs": [
        {
          "name": "stdout",
          "output_type": "stream",
          "text": [
            "Model chosen: xgb.\n",
            "Optimising..\n",
            "Best estimator: \n",
            "XGBClassifier(base_score=None, booster=None, callbacks=None,\n",
            "              colsample_bylevel=None, colsample_bynode=None,\n",
            "              colsample_bytree=None, device=None, early_stopping_rounds=None,\n",
            "              enable_categorical=False, eta=0.05, eval_metric=None,\n",
            "              feature_types=None, gamma=None, grow_policy=None,\n",
            "              importance_type=None, interaction_constraints=None,\n",
            "              learning_rate=None, max_bin=None, max_cat_threshold=None,\n",
            "              max_cat_to_onehot=None, max_delta_step=None, max_depth=6,\n",
            "              max_leaves=None, min_child_weight=None, missing=nan,\n",
            "              monotone_constraints=None, multi_strategy=None, n_estimators=125,\n",
            "              n_jobs=None, num_parallel_tree=None, ...)\n",
            "XGBClassifier(base_score=None, booster=None, callbacks=None,\n",
            "              colsample_bylevel=None, colsample_bynode=None,\n",
            "              colsample_bytree=None, device=None, early_stopping_rounds=None,\n",
            "              enable_categorical=False, eta=0.05, eval_metric=None,\n",
            "              feature_types=None, gamma=None, grow_policy=None,\n",
            "              importance_type=None, interaction_constraints=None,\n",
            "              learning_rate=None, max_bin=None, max_cat_threshold=None,\n",
            "              max_cat_to_onehot=None, max_delta_step=None, max_depth=6,\n",
            "              max_leaves=None, min_child_weight=None, missing=nan,\n",
            "              monotone_constraints=None, multi_strategy=None, n_estimators=125,\n",
            "              n_jobs=None, num_parallel_tree=None, ...)\n",
            "Evaluation metrics on test set: \n",
            "Accuracy:  83.31 %\n",
            "Precision:  86.66 %\n",
            "Recall:  78.59 %\n",
            "F1-score 82.43 %\n"
          ]
        }
      ],
      "source": [
        "!python3 combat-ai-restaurants/src/benchmarks_sklearn.py --model xgb"
      ]
    },
    {
      "cell_type": "code",
      "execution_count": null,
      "metadata": {
        "colab": {
          "base_uri": "https://localhost:8080/"
        },
        "id": "56YgEAvEdHD3",
        "outputId": "8bccf2cf-7a7d-41af-c837-18ae08383613"
      },
      "outputs": [
        {
          "name": "stdout",
          "output_type": "stream",
          "text": [
            "nvcc: NVIDIA (R) Cuda compiler driver\n",
            "Copyright (c) 2005-2022 NVIDIA Corporation\n",
            "Built on Wed_Sep_21_10:33:58_PDT_2022\n",
            "Cuda compilation tools, release 11.8, V11.8.89\n",
            "Build cuda_11.8.r11.8/compiler.31833905_0\n"
          ]
        }
      ],
      "source": [
        "!nvcc --version"
      ]
    }
  ],
  "metadata": {
    "colab": {
      "provenance": []
    },
    "kernelspec": {
      "display_name": "Python 3",
      "name": "python3"
    },
    "language_info": {
      "name": "python"
    }
  },
  "nbformat": 4,
  "nbformat_minor": 0
}