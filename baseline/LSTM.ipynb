{
  "nbformat": 4,
  "nbformat_minor": 0,
  "metadata": {
    "colab": {
      "provenance": []
    },
    "kernelspec": {
      "name": "python3",
      "display_name": "Python 3"
    },
    "language_info": {
      "name": "python"
    }
  },
  "cells": [
    {
      "cell_type": "code",
      "source": [
        "!wget https://repo.anaconda.com/miniconda/Miniconda3-py37_4.8.2-Linux-x86_64.sh\n",
        "\n",
        "!chmod +x Miniconda3-py37_4.8.2-Linux-x86_64.sh\n",
        "\n",
        "!bash ./Miniconda3-py37_4.8.2-Linux-x86_64.sh -b -f -p /usr/local\n",
        "\n",
        "import sys\n",
        "\n",
        "sys.path.append('/usr/local/lib/python3.7/site-packages/')"
      ],
      "metadata": {
        "id": "2EAfuHVMrEyR"
      },
      "execution_count": null,
      "outputs": []
    },
    {
      "cell_type": "code",
      "source": [
        "!conda install python=3.8"
      ],
      "metadata": {
        "id": "kWz9WTW6rTWp"
      },
      "execution_count": null,
      "outputs": []
    },
    {
      "cell_type": "code",
      "source": [
        "!python --version"
      ],
      "metadata": {
        "colab": {
          "base_uri": "https://localhost:8080/"
        },
        "id": "qNYMQNVYsKpg",
        "outputId": "5dcf4b1e-c940-410a-e101-5648d71e6a6c"
      },
      "execution_count": null,
      "outputs": [
        {
          "output_type": "stream",
          "name": "stdout",
          "text": [
            "Python 3.8.2\n"
          ]
        }
      ]
    },
    {
      "cell_type": "code",
      "source": [
        "%matplotlib inline\n",
        "from pathlib import Path\n",
        "import pandas as pd\n",
        "import matplotlib.pyplot as plt\n",
        "import seaborn as sns\n",
        "from sklearn.metrics import accuracy_score, precision_score, recall_score"
      ],
      "metadata": {
        "id": "YusXdBGxsNig"
      },
      "execution_count": null,
      "outputs": []
    },
    {
      "cell_type": "code",
      "source": [
        "!git clone https://github.com/iamalegambetti/combat-ai-restaurants.git"
      ],
      "metadata": {
        "colab": {
          "base_uri": "https://localhost:8080/"
        },
        "id": "NmohAv00sS7I",
        "outputId": "e76826da-73ca-44f2-e7a8-7558d369c765"
      },
      "execution_count": null,
      "outputs": [
        {
          "output_type": "stream",
          "name": "stdout",
          "text": [
            "Cloning into 'combat-ai-restaurants'...\n",
            "remote: Enumerating objects: 102, done.\u001b[K\n",
            "remote: Counting objects: 100% (102/102), done.\u001b[K\n",
            "remote: Compressing objects: 100% (73/73), done.\u001b[K\n",
            "remote: Total 102 (delta 50), reused 77 (delta 25), pack-reused 0\u001b[K\n",
            "Receiving objects: 100% (102/102), 4.96 MiB | 12.72 MiB/s, done.\n",
            "Resolving deltas: 100% (50/50), done.\n"
          ]
        }
      ]
    },
    {
      "cell_type": "code",
      "source": [
        "!cp -r combat-ai-restaurants/data/ ./data"
      ],
      "metadata": {
        "id": "Hs7uzurgsXHF"
      },
      "execution_count": null,
      "outputs": []
    },
    {
      "cell_type": "code",
      "source": [
        "! pip install torchtext==0.10.0"
      ],
      "metadata": {
        "id": "KwjDVnsUzDtI"
      },
      "execution_count": null,
      "outputs": []
    },
    {
      "cell_type": "code",
      "source": [
        "!pip install spacy==2.2.4\n",
        "!python -m spacy download en"
      ],
      "metadata": {
        "id": "WUZ7vHNQ7VoP"
      },
      "execution_count": null,
      "outputs": []
    },
    {
      "cell_type": "code",
      "source": [
        "!pip install scikit-learn"
      ],
      "metadata": {
        "id": "NbZXf87w9IIs"
      },
      "execution_count": null,
      "outputs": []
    },
    {
      "cell_type": "code",
      "source": [
        "!python3 combat-ai-restaurants/src/lstm.py"
      ],
      "metadata": {
        "colab": {
          "base_uri": "https://localhost:8080/"
        },
        "id": "bkIYytUlyzo_",
        "outputId": "c8693725-ed5f-4aab-babd-3631038ecf1c"
      },
      "execution_count": null,
      "outputs": [
        {
          "output_type": "stream",
          "name": "stdout",
          "text": [
            "LSTM\n",
            "Epoch:  1\n",
            "0.8522943899782135 0.7885632274171909 0.894403812523831\n",
            "\n",
            "Epoch:  2\n",
            "0.8860294117647058 0.8132868517351978 0.9557961628903858\n",
            "\n",
            "Epoch:  3\n",
            "0.9022671568627451 0.8842269959800246 0.9090706890413998\n",
            "\n",
            "Epoch:  4\n",
            "0.90625 0.8748396220361048 0.9300746541794283\n",
            "\n",
            "Epoch:  5\n",
            "0.9111519607843137 0.8880620605314756 0.9311141856778714\n",
            "\n",
            "Epoch:  6\n",
            "0.914828431372549 0.8927746091997996 0.9289099367489522\n",
            "\n",
            "Epoch:  7\n",
            "0.9129901960784313 0.9066200333575821 0.9047607747354641\n",
            "\n",
            "Epoch:  8\n",
            "0.9157475490196079 0.8891416727413756 0.9343428871520427\n",
            "\n",
            "Epoch:  9\n",
            "0.9157475490196079 0.8714709442526278 0.9546636953376326\n",
            "\n",
            "Epoch:  10\n",
            "0.921875 0.9036638365612559 0.9312224582082157\n",
            "\n",
            "Epoch:  11\n",
            "0.9209558823529411 0.8948128198434704 0.9374276326431036\n",
            "\n",
            "Epoch:  12\n",
            "0.9246323529411765 0.8955060984514331 0.9473234378332291\n",
            "\n",
            "Epoch:  13\n",
            "0.9237132352941176 0.9024492686768016 0.932481077578079\n",
            "\n",
            "Epoch:  14\n",
            "0.9258578431372549 0.901638338085622 0.9392074719766423\n",
            "\n",
            "Epoch:  15\n",
            "0.9249387254901961 0.9012644455844183 0.9367037759863726\n",
            "\n",
            "Epoch:  16\n",
            "0.9267769607843137 0.9098813292041048 0.9287260135827907\n",
            "\n",
            "Epoch:  17\n",
            "0.9234068627450981 0.9134615738249515 0.9180852578335251\n",
            "\n",
            "Epoch:  18\n",
            "0.930453431372549 0.9003774616960332 0.9471498256765981\n",
            "\n",
            "Epoch:  19\n",
            "0.928921568627451 0.9094521694401256 0.9328044877894148\n",
            "\n",
            "Epoch:  20\n",
            "0.9264705882352942 0.9121852260449569 0.9218697422133646\n",
            "\n",
            "Epoch:  21\n",
            "0.9298406862745098 0.9165577220368877 0.9271695819425317\n",
            "\n",
            "Epoch:  22\n",
            "0.9280024509803921 0.899107189798343 0.9406620400792549\n",
            "\n",
            "Epoch:  23\n",
            "0.9322916666666666 0.914560417142578 0.9338714712267872\n",
            "\n",
            "Epoch:  24\n",
            "0.9322916666666666 0.9011573351141041 0.947467952881885\n",
            "\n",
            "Epoch:  25\n",
            "0.9267769607843137 0.9034659745700615 0.9374377688863116\n",
            "\n",
            "Epoch:  26\n",
            "0.9310661764705882 0.9020378350333325 0.9483394156781171\n",
            "\n",
            "Epoch:  27\n",
            "0.9243259803921569 0.9177034307237317 0.9156548147766201\n",
            "\n",
            "Epoch:  28\n",
            "0.9292279411764706 0.911103630614913 0.9321947703953739\n",
            "\n",
            "Stopping at epoch:  28 .\n",
            "Converged. Results: \n",
            "(0.17395311365524926, 0.9406790121396382, 0.9266250863425809, 0.9461081389401041, 0.940679012345679)\n"
          ]
        }
      ]
    },
    {
      "cell_type": "markdown",
      "source": [
        "Accuracy: 94.07%\n",
        "\n",
        "Precision: 92.66%\n",
        "\n",
        "Recall: 94.61%\n",
        "\n",
        "F1-score: 94.07%"
      ],
      "metadata": {
        "id": "3Kq9-EiD-nCS"
      }
    }
  ]
}