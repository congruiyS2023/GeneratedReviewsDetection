{
 "cells": [
  {
   "cell_type": "markdown",
   "source": [
    "# Model performance with original weights\n",
    "\n",
    "This notebook is used to evaluate the performance of the model on our generated dataset with the original weights from [Gambetti et. al](https://github.com/iamalegambetti/combat-ai-restaurants/tree/main)."
   ],
   "metadata": {
    "collapsed": false
   },
   "id": "7ef7abaab1d80d71"
  },
  {
   "cell_type": "code",
   "execution_count": null,
   "id": "initial_id",
   "metadata": {
    "collapsed": true
   },
   "outputs": [],
   "source": [
    "!pip install gdown\n",
    "import gdown\n",
    "\n",
    "url = \"https://drive.google.com/uc?id=1OrweZO9L9nTmkGjHMIT_LHu9FVc_y6bM\"\n",
    "out = \"./output/gpt-neo-125M_2.pt\"\n",
    "gdown.download(url, out, quiet=False)"
   ]
  },
  {
   "cell_type": "code",
   "execution_count": null,
   "outputs": [],
   "source": [],
   "metadata": {
    "collapsed": false
   },
   "id": "d712816ece72bd14"
  }
 ],
 "metadata": {
  "kernelspec": {
   "display_name": "Python 3",
   "language": "python",
   "name": "python3"
  },
  "language_info": {
   "codemirror_mode": {
    "name": "ipython",
    "version": 2
   },
   "file_extension": ".py",
   "mimetype": "text/x-python",
   "name": "python",
   "nbconvert_exporter": "python",
   "pygments_lexer": "ipython2",
   "version": "2.7.6"
  }
 },
 "nbformat": 4,
 "nbformat_minor": 5
}
